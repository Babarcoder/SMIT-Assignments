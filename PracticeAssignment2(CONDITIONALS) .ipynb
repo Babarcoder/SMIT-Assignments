{
 "cells": [
  {
   "cell_type": "markdown",
   "metadata": {
    "id": "8rksu2_jMVjQ"
   },
   "source": [
    "### 1) A company decided to give bonus of 5% to employee if his/her year of service is more than 5 years.\n",
    "Ask user for their salary and year of service and print the net bonus amount."
   ]
  },
  {
   "cell_type": "code",
   "execution_count": 4,
   "metadata": {
    "id": "_GRPHPiLMVjX"
   },
   "outputs": [
    {
     "name": "stdin",
     "output_type": "stream",
     "text": [
      "Enter your salary:  10000\n",
      "Enter years of service:  6\n"
     ]
    },
    {
     "name": "stdout",
     "output_type": "stream",
     "text": [
      "Net bonus: 500.0\n"
     ]
    }
   ],
   "source": [
    "### salary = float(input(\"Enter your salary: \"))\n",
    "years = float(input(\"Enter years of service: \"))\n",
    "if years > 5:\n",
    "    bonus = salary * 0.05\n",
    "    print(\"Net bonus:\", bonus)\n",
    "else:\n",
    "    print(\"No bonus.\")"
   ]
  },
  {
   "cell_type": "markdown",
   "metadata": {
    "id": "iXt5RVcjMVja"
   },
   "source": [
    "### 2) Write a program to check whether a person is eligible for voting or not.  ask age of the person , if age is more than or equal to 18 then eligible if less than 18 no eligible"
   ]
  },
  {
   "cell_type": "code",
   "execution_count": 5,
   "metadata": {
    "id": "jXVCvia3MVjh"
   },
   "outputs": [
    {
     "name": "stdin",
     "output_type": "stream",
     "text": [
      "Enter your age:  20\n"
     ]
    },
    {
     "name": "stdout",
     "output_type": "stream",
     "text": [
      "You are eligible for voting.\n"
     ]
    }
   ],
   "source": [
    "### Step 1: Ask the user for their age\n",
    "age = int(input(\"Enter your age: \"))\n",
    "\n",
    "# Step 2: Check if the person is eligible for voting\n",
    "if age >= 18:\n",
    "    print(\"You are eligible for voting.\")\n",
    "else:\n",
    "    print(\"You are not eligible for voting.\")"
   ]
  },
  {
   "cell_type": "markdown",
   "metadata": {},
   "source": [
    "### 3) Take values of length and breadth of a rectangle from user and check if it is square or not."
   ]
  },
  {
   "cell_type": "code",
   "execution_count": 6,
   "metadata": {},
   "outputs": [
    {
     "name": "stdin",
     "output_type": "stream",
     "text": [
      "Enter the length of the rectangle:  4\n",
      "Enter the breadth of the rectangle:  8\n"
     ]
    },
    {
     "name": "stdout",
     "output_type": "stream",
     "text": [
      "It is not a square.\n"
     ]
    }
   ],
   "source": [
    "### Step 1: Ask the user for the length and breadth of the rectangle\n",
    "length = float(input(\"Enter the length of the rectangle: \"))\n",
    "breadth = float(input(\"Enter the breadth of the rectangle: \"))\n",
    "\n",
    "# Step 2: Check if it is a square\n",
    "if length == breadth:\n",
    "    print(\"It is a square.\")\n",
    "else:\n",
    "    print(\"It is not a square.\")"
   ]
  },
  {
   "cell_type": "markdown",
   "metadata": {
    "id": "IkNM7QpCMVjj"
   },
   "source": [
    "### 4) Write a program to check whether a number entered by user is even or odd.\n",
    "\n",
    "Hint: Use modulo operator (%) to check remainder when divideing with 2 , if remainder is 0 even, else odd "
   ]
  },
  {
   "cell_type": "code",
   "execution_count": 7,
   "metadata": {
    "id": "-GxviwByMVjl"
   },
   "outputs": [
    {
     "name": "stdin",
     "output_type": "stream",
     "text": [
      "Enter a number:  6\n"
     ]
    },
    {
     "name": "stdout",
     "output_type": "stream",
     "text": [
      "6 is even.\n"
     ]
    }
   ],
   "source": [
    "### Step 1: Ask the user for a number\n",
    "number = int(input(\"Enter a number: \"))\n",
    "\n",
    "# Step 2: Check if the number is even or odd using the modulo operator\n",
    "if number % 2 == 0:\n",
    "    print(f\"{number} is even.\")\n",
    "else:\n",
    "    print(f\"{number} is odd.\")"
   ]
  },
  {
   "cell_type": "markdown",
   "metadata": {
    "id": "_jEHjkfdMVjm"
   },
   "source": [
    "### 5) Write a program to check whether a number is divisible by 7 or not.\n",
    "\n",
    "Hint: Use modulo operator (%) to check remainder when divideing with 7 , if remainder is 0 divisible, else not divisible"
   ]
  },
  {
   "cell_type": "code",
   "execution_count": 13,
   "metadata": {
    "id": "IRNXyG1GMVjo"
   },
   "outputs": [
    {
     "name": "stdin",
     "output_type": "stream",
     "text": [
      "Enter a number:  14\n"
     ]
    },
    {
     "name": "stdout",
     "output_type": "stream",
     "text": [
      "14 is divisible by 7.\n"
     ]
    }
   ],
   "source": [
    "### Step 1: Ask the user for a number\n",
    "number = int(input(\"Enter a number: \"))\n",
    "\n",
    "# Step 2: Check if the number is divisible by 7 using the modulo operator\n",
    "if number % 7 == 0:\n",
    "    print(f\"{number} is divisible by 7.\")\n",
    "else:\n",
    "    print(f\"{number} is not divisible by 7.\")"
   ]
  },
  {
   "cell_type": "markdown",
   "metadata": {
    "id": "XxfyVe4kMVjp"
   },
   "source": [
    "### 6) Write a program to display \n",
    "\"Hello\" if a number entered by user is a multiple of five , otherwise print \"Bye\".\n",
    "Hint : modulo operator"
   ]
  },
  {
   "cell_type": "code",
   "execution_count": 22,
   "metadata": {
    "id": "Ixnz4R4TMVjr"
   },
   "outputs": [
    {
     "name": "stdin",
     "output_type": "stream",
     "text": [
      "Enter a number:  7\n"
     ]
    },
    {
     "name": "stdout",
     "output_type": "stream",
     "text": [
      "Bye\n"
     ]
    }
   ],
   "source": [
    "### Step 1: Ask the user for a number\n",
    "number = int(input(\"Enter a number: \"))\n",
    "\n",
    "# Step 2: Check if the number is a multiple of 5 using the modulo operator\n",
    "if number % 5 == 0:\n",
    "    print(\"Hello\")\n",
    "else:\n",
    "    print(\"Bye\")"
   ]
  },
  {
   "cell_type": "markdown",
   "metadata": {
    "id": "qfzRUUwOMVjs"
   },
   "source": [
    "### 7) Write a program to calculate the electricity bill (accept number of unit from user) \n",
    "according to the following criteria :\n",
    "     Unit                                                     Price  \n",
    "upto 100 units                                              no charge\n",
    "Next 200 units                                              Rs 5 per unit\n",
    "After 300 units                                             Rs 10 per unit\n",
    "(For example if input unit is 350 than total bill amount is Rs.1500\n",
    "(For example if input unit is 97 than total bill amount is Rs.0\n",
    "(For example if input unit is 150 than total bill amount is Rs.250"
   ]
  },
  {
   "cell_type": "code",
   "execution_count": 24,
   "metadata": {
    "id": "1BY1oAIpMVju"
   },
   "outputs": [
    {
     "name": "stdin",
     "output_type": "stream",
     "text": [
      "Enter the number of units consumed:  150\n"
     ]
    },
    {
     "name": "stdout",
     "output_type": "stream",
     "text": [
      "Total electricity bill: Rs. 250\n"
     ]
    }
   ],
   "source": [
    "### Step 1: Ask the user for the number of units consumed\n",
    "units = int(input(\"Enter the number of units consumed: \"))\n",
    "\n",
    "# Step 2: Calculate the electricity bill based on the given criteria\n",
    "if units <= 100:\n",
    "    bill = 0  # No charge for up to 100 units\n",
    "elif units <= 300:\n",
    "    bill = (units - 100) * 5  # Rs 5 per unit for the next 200 units\n",
    "else:\n",
    "    bill = 200 * 5 + (units - 300) * 10  # Rs 10 per unit for units above 300\n",
    "\n",
    "# Step 3: Print the total bill amount\n",
    "print(f\"Total electricity bill: Rs. {bill}\")"
   ]
  },
  {
   "cell_type": "markdown",
   "metadata": {
    "id": "msAIDMRDMVjv"
   },
   "source": [
    "### 8) Write a program to display the last digit of a number."
   ]
  },
  {
   "cell_type": "code",
   "execution_count": 25,
   "metadata": {
    "id": "VQwLuGzbMVjv"
   },
   "outputs": [
    {
     "name": "stdin",
     "output_type": "stream",
     "text": [
      "Enter a number:  123342\n"
     ]
    },
    {
     "name": "stdout",
     "output_type": "stream",
     "text": [
      "The last digit of 123342 is 2.\n"
     ]
    }
   ],
   "source": [
    "### Step 1: Ask the user for a number\n",
    "number = int(input(\"Enter a number: \"))\n",
    "\n",
    "# Step 2: Calculate the last digit using the modulo operator (%)\n",
    "last_digit = number % 10\n",
    "\n",
    "# Step 3: Print the last digit\n",
    "print(f\"The last digit of {number} is {last_digit}.\")"
   ]
  },
  {
   "cell_type": "markdown",
   "metadata": {
    "id": "UeLHzVZ_MVjw"
   },
   "source": [
    "### 9) Write a program to check whether the last digit of a number( entered by user ) is \n",
    "divisible by 3 or not."
   ]
  },
  {
   "cell_type": "code",
   "execution_count": 26,
   "metadata": {
    "id": "KiQ5wnc6MVjx"
   },
   "outputs": [
    {
     "name": "stdin",
     "output_type": "stream",
     "text": [
      "Enter a number:  564\n"
     ]
    },
    {
     "name": "stdout",
     "output_type": "stream",
     "text": [
      "The last digit (4) is not divisible by 3.\n"
     ]
    }
   ],
   "source": [
    "### Step 1: Ask the user for a number\n",
    "number = int(input(\"Enter a number: \"))\n",
    "\n",
    "# Step 2: Calculate the last digit using the modulo operator (%)\n",
    "last_digit = number % 10\n",
    "\n",
    "# Step 3: Check if the last digit is divisible by 3\n",
    "if last_digit % 3 == 0:\n",
    "    print(f\"The last digit ({last_digit}) is divisible by 3.\")\n",
    "else:\n",
    "    print(f\"The last digit ({last_digit}) is not divisible by 3.\")"
   ]
  },
  {
   "cell_type": "markdown",
   "metadata": {
    "id": "B2e5VYbiMVjz"
   },
   "source": [
    "### 10) Take two int values from user and print greatest among them."
   ]
  },
  {
   "cell_type": "code",
   "execution_count": 28,
   "metadata": {
    "id": "LyYYL78HMVj0"
   },
   "outputs": [
    {
     "name": "stdin",
     "output_type": "stream",
     "text": [
      "Enter the first number:  4\n",
      "Enter the second number:  7\n"
     ]
    },
    {
     "name": "stdout",
     "output_type": "stream",
     "text": [
      "The greatest number is 7.\n"
     ]
    }
   ],
   "source": [
    "### Step 1: Ask the user for two integer values\n",
    "num1 = int(input(\"Enter the first number: \"))\n",
    "num2 = int(input(\"Enter the second number: \"))\n",
    "\n",
    "# Step 2: Compare the two numbers and find the greatest\n",
    "if num1 > num2:\n",
    "    print(f\"The greatest number is {num1}.\")\n",
    "elif num2 > num1:\n",
    "    print(f\"The greatest number is {num2}.\")\n",
    "else:\n",
    "    print(\"Both numbers are equal.\")"
   ]
  },
  {
   "cell_type": "markdown",
   "metadata": {
    "id": "R9gMEjdQMVj1"
   },
   "source": [
    "### 11) A shop will give discount of 10% if the cost of purchased quantity is more than 1000.\n",
    "Ask user for quantity\n",
    "Suppose, one unit will cost 100.\n",
    "Judge and print total cost for user."
   ]
  },
  {
   "cell_type": "code",
   "execution_count": 29,
   "metadata": {
    "id": "hjvEnOzxMVj2"
   },
   "outputs": [
    {
     "name": "stdin",
     "output_type": "stream",
     "text": [
      "Enter the quantity of items:  8\n"
     ]
    },
    {
     "name": "stdout",
     "output_type": "stream",
     "text": [
      "Total cost: Rs. 800\n"
     ]
    }
   ],
   "source": [
    "### Step 1: Ask the user for the quantity of items\n",
    "quantity = int(input(\"Enter the quantity of items: \"))\n",
    "\n",
    "# Step 2: Calculate the total cost without discount\n",
    "cost_per_unit = 100  # Cost of one unit\n",
    "total_cost = quantity * cost_per_unit\n",
    "\n",
    "# Step 3: Apply a 10% discount if the total cost is more than 1000\n",
    "if total_cost > 1000:\n",
    "    discount = total_cost * 0.10  # 10% discount\n",
    "    total_cost -= discount  # Subtract discount from total cost\n",
    "\n",
    "# Step 4: Print the total cost\n",
    "print(f\"Total cost: Rs. {total_cost}\")"
   ]
  },
  {
   "cell_type": "markdown",
   "metadata": {
    "id": "yqYL7FZeMVj3"
   },
   "source": [
    "### 12) A school has following rules for grading system:\n",
    "\n",
    "a. Below 25 - F\n",
    "\n",
    "b. 25 to 45 - E\n",
    "\n",
    "c. 45 to 50 - D\n",
    "\n",
    "d. 50 to 60 - C\n",
    "\n",
    "e. 60 to 80 - B\n",
    "\n",
    "f. Above 80 - A\n",
    "\n",
    "Ask user to enter marks and print the corresponding grade."
   ]
  },
  {
   "cell_type": "code",
   "execution_count": 30,
   "metadata": {
    "id": "he_r-bpOMVj4"
   },
   "outputs": [
    {
     "name": "stdin",
     "output_type": "stream",
     "text": [
      "Enter your marks:  50\n"
     ]
    },
    {
     "name": "stdout",
     "output_type": "stream",
     "text": [
      "Your grade is: C\n"
     ]
    }
   ],
   "source": [
    "### Step 1: Ask the user to enter their marks\n",
    "marks = float(input(\"Enter your marks: \"))\n",
    "\n",
    "# Step 2: Determine the grade based on the marks\n",
    "if marks < 25:\n",
    "    grade = \"F\"\n",
    "elif 25 <= marks < 45:\n",
    "    grade = \"E\"\n",
    "elif 45 <= marks < 50:\n",
    "    grade = \"D\"\n",
    "elif 50 <= marks < 60:\n",
    "    grade = \"C\"\n",
    "elif 60 <= marks < 80:\n",
    "    grade = \"B\"\n",
    "else:\n",
    "    grade = \"A\"\n",
    "\n",
    "# Step 3: Print the corresponding grade\n",
    "print(f\"Your grade is: {grade}\")"
   ]
  },
  {
   "cell_type": "markdown",
   "metadata": {
    "id": "IUJjt9NbMVj4"
   },
   "source": [
    "### 13) Take input of age of 3 people by user and determine oldest and youngest among them."
   ]
  },
  {
   "cell_type": "code",
   "execution_count": 31,
   "metadata": {
    "id": "vlre5Ck0MVj4"
   },
   "outputs": [
    {
     "name": "stdin",
     "output_type": "stream",
     "text": [
      "Enter the age of the first person:  25\n",
      "Enter the age of the second person:  28\n",
      "Enter the age of the third person:  30\n"
     ]
    },
    {
     "name": "stdout",
     "output_type": "stream",
     "text": [
      "The oldest person is 30 years old.\n",
      "The youngest person is 25 years old.\n"
     ]
    }
   ],
   "source": [
    "### Taking input of ages from the user\n",
    "age1 = int(input(\"Enter the age of the first person: \"))\n",
    "age2 = int(input(\"Enter the age of the second person: \"))\n",
    "age3 = int(input(\"Enter the age of the third person: \"))\n",
    "\n",
    "# Determining the oldest and youngest\n",
    "oldest = max(age1, age2, age3)\n",
    "youngest = min(age1, age2, age3)\n",
    "\n",
    "# Displaying the results\n",
    "print(f\"The oldest person is {oldest} years old.\")\n",
    "print(f\"The youngest person is {youngest} years old.\")\n"
   ]
  },
  {
   "cell_type": "markdown",
   "metadata": {
    "id": "Zc9ovDhsMVj5"
   },
   "source": [
    "### 14)A student will not be allowed to sit in exam if his/her attendence is less than 75%.\n",
    "\n",
    "Take following input from user\n",
    "\n",
    "Number of classes held\n",
    "\n",
    "Number of classes attended.\n",
    "\n",
    "And print\n",
    "\n",
    "percentage of class attended\n",
    "\n",
    "Is student is allowed to sit in exam or not.\n"
   ]
  },
  {
   "cell_type": "code",
   "execution_count": 32,
   "metadata": {
    "id": "rseYum2_MVj6"
   },
   "outputs": [
    {
     "name": "stdin",
     "output_type": "stream",
     "text": [
      "Enter the total number of classes held:  54\n",
      "Enter the number of classes attended:  45\n"
     ]
    },
    {
     "name": "stdout",
     "output_type": "stream",
     "text": [
      "Attendance Percentage: 83.33%\n",
      "The student is allowed to sit in the exam.\n"
     ]
    }
   ],
   "source": [
    "### Taking input from the user\n",
    "classes_held = int(input(\"Enter the total number of classes held: \"))\n",
    "classes_attended = int(input(\"Enter the number of classes attended: \"))\n",
    "\n",
    "# Calculating attendance percentage\n",
    "attendance_percentage = (classes_attended / classes_held) * 100\n",
    "\n",
    "# Displaying the percentage\n",
    "print(f\"Attendance Percentage: {attendance_percentage:.2f}%\")\n",
    "\n",
    "# Checking if the student is allowed to sit in the exam\n",
    "if attendance_percentage >= 75:\n",
    "    print(\"The student is allowed to sit in the exam.\")\n",
    "else:\n",
    "    print(\"The student is NOT allowed to sit in the exam.\")\n"
   ]
  },
  {
   "cell_type": "markdown",
   "metadata": {
    "id": "58UPPHAOMVj6"
   },
   "source": [
    "### 15) Modify the above question to allow student to sit if he/she has medical cause. Ask user if he/she has medical cause or not ( 'Y' or 'N' ) and print accordingly."
   ]
  },
  {
   "cell_type": "code",
   "execution_count": 34,
   "metadata": {
    "id": "lDi-xLzTMVj7"
   },
   "outputs": [
    {
     "name": "stdin",
     "output_type": "stream",
     "text": [
      "Enter the total number of classes held:  50\n",
      "Enter the number of classes attended:  26\n"
     ]
    },
    {
     "name": "stdout",
     "output_type": "stream",
     "text": [
      "Attendance Percentage: 52.00%\n"
     ]
    },
    {
     "name": "stdin",
     "output_type": "stream",
     "text": [
      "Do you have a medical cause? (Y/N):  y\n"
     ]
    },
    {
     "name": "stdout",
     "output_type": "stream",
     "text": [
      "The student is allowed to sit in the exam due to a medical cause.\n"
     ]
    }
   ],
   "source": [
    "### Taking input from the user\n",
    "classes_held = int(input(\"Enter the total number of classes held: \"))\n",
    "classes_attended = int(input(\"Enter the number of classes attended: \"))\n",
    "\n",
    "# Calculating attendance percentage\n",
    "attendance_percentage = (classes_attended / classes_held) * 100\n",
    "\n",
    "# Displaying the percentage\n",
    "print(f\"Attendance Percentage: {attendance_percentage:.2f}%\")\n",
    "\n",
    "# Checking if the student meets the attendance requirement\n",
    "if attendance_percentage >= 75:\n",
    "    print(\"The student is allowed to sit in the exam.\")\n",
    "else:\n",
    "    # Asking if the student has a medical cause\n",
    "    medical_cause = input(\"Do you have a medical cause? (Y/N): \").strip().upper()\n",
    "\n",
    "    if medical_cause == 'Y':\n",
    "        print(\"The student is allowed to sit in the exam due to a medical cause.\")\n",
    "    else:\n",
    "        print(\"The student is NOT allowed to sit in the exam.\")\n"
   ]
  },
  {
   "cell_type": "markdown",
   "metadata": {
    "id": "kJtSy1EoMVj7"
   },
   "source": [
    "### 16) Write a program to check if a year is leap year or not.\n",
    "\n",
    "If a year is divisible by 4 then it is leap year but if the year is century year like 2000, 1900, 2100 then it must be divisible by 400."
   ]
  },
  {
   "cell_type": "code",
   "execution_count": 35,
   "metadata": {
    "id": "QUL_YUX3MVj7"
   },
   "outputs": [
    {
     "name": "stdin",
     "output_type": "stream",
     "text": [
      "Enter a year:  2005\n"
     ]
    },
    {
     "name": "stdout",
     "output_type": "stream",
     "text": [
      "2005 is NOT a leap year.\n"
     ]
    }
   ],
   "source": [
    "### Taking input from the user\n",
    "year = int(input(\"Enter a year: \"))\n",
    "\n",
    "# Checking if the year is a leap year\n",
    "if (year % 4 == 0 and year % 100 != 0) or (year % 400 == 0):\n",
    "    print(f\"{year} is a leap year.\")\n",
    "else:\n",
    "    print(f\"{year} is NOT a leap year.\")\n"
   ]
  },
  {
   "cell_type": "markdown",
   "metadata": {
    "id": "CCNg4yDDMVj8"
   },
   "source": [
    "### 17) Ask user to enter age, gender ( M or F ), marital status ( Y or N ) and then using following rules print their place of service.\n",
    "\n",
    "if employee is female, then she will work only in urban areas.\n",
    "\n",
    "if employee is a male and age is in between 20 to 40 then he may work in anywhere\n",
    "\n",
    "if employee is male and age is in between 40 t0 60 then he will work in urban areas only.\n",
    "\n",
    "And any other input of age should print \"ERROR\""
   ]
  },
  {
   "cell_type": "code",
   "execution_count": 36,
   "metadata": {
    "id": "RDWMB0CZMVj8"
   },
   "outputs": [
    {
     "name": "stdin",
     "output_type": "stream",
     "text": [
      "Enter your age:  20\n",
      "Enter your gender (M/F):  M\n",
      "Are you married? (Y/N):  N\n"
     ]
    },
    {
     "name": "stdout",
     "output_type": "stream",
     "text": [
      "You may work anywhere.\n"
     ]
    }
   ],
   "source": [
    "### Taking input from the user\n",
    "age = int(input(\"Enter your age: \"))\n",
    "gender = input(\"Enter your gender (M/F): \").strip().upper()\n",
    "marital_status = input(\"Are you married? (Y/N): \").strip().upper()\n",
    "\n",
    "# Checking conditions based on the given rules\n",
    "if gender == 'F':\n",
    "    print(\"You will work only in urban areas.\")\n",
    "elif gender == 'M':\n",
    "    if 20 <= age <= 40:\n",
    "        print(\"You may work anywhere.\")\n",
    "    elif 40 < age <= 60:\n",
    "        print(\"You will work only in urban areas.\")\n",
    "    else:\n",
    "        print(\"ERROR\")\n",
    "else:\n",
    "    print(\"ERROR: Invalid input for gender.\")\n"
   ]
  }
 ],
 "metadata": {
  "colab": {
   "name": "If then Else &Elif Practice Task .ipynb",
   "provenance": []
  },
  "kernelspec": {
   "display_name": "Python 3 (ipykernel)",
   "language": "python",
   "name": "python3"
  },
  "language_info": {
   "codemirror_mode": {
    "name": "ipython",
    "version": 3
   },
   "file_extension": ".py",
   "mimetype": "text/x-python",
   "name": "python",
   "nbconvert_exporter": "python",
   "pygments_lexer": "ipython3",
   "version": "3.13.2"
  }
 },
 "nbformat": 4,
 "nbformat_minor": 4
}
