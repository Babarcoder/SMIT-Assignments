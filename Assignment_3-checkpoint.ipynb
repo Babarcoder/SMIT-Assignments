{
 "cells": [
  {
   "cell_type": "markdown",
   "id": "e97b70bc-85df-40a1-9537-f71e034ac634",
   "metadata": {},
   "source": [
    "## Write a Python program that:\n",
    "\n",
    "Accepts a comma-separated string of numbers from the user (e.g., \"1,2,3,4,5\").\n",
    "Typecasts the input string into a list of integers.\n",
    "Print the resulting list of integers.\n",
    "Example Input:\n",
    "\"10,20,30,40,50\" or \n",
    "[10, 20, 30, 40, 50]\n"
   ]
  },
  {
   "cell_type": "code",
   "execution_count": 1,
   "id": "ddead697-b887-460f-94c6-c17be97675aa",
   "metadata": {},
   "outputs": [
    {
     "name": "stdin",
     "output_type": "stream",
     "text": [
      "Enter a comma-separated string of numbers:  10,20,30,40,50\n"
     ]
    },
    {
     "name": "stdout",
     "output_type": "stream",
     "text": [
      "List of integers: [10, 20, 30, 40, 50]\n"
     ]
    }
   ],
   "source": [
    "# Step 1: Accept input from the user\n",
    "user_input = input(\"Enter a comma-separated string of numbers: \")\n",
    "\n",
    "# Step 2: Split the input string by commas to get individual number strings\n",
    "number_strings = user_input.split(',')\n",
    "\n",
    "# Step 3: Convert each number string to an integer\n",
    "numbers = [int(num) for num in number_strings]\n",
    "\n",
    "# Step 4: Print the resulting list of integers\n",
    "print(\"List of integers:\", numbers)"
   ]
  },
  {
   "cell_type": "markdown",
   "id": "6bd54ab7-060f-4207-a5ce-abc140e3c796",
   "metadata": {},
   "source": [
    "## Write a Python program that user to enter 5 different names (e.g., \"Alice, Bob, Charlie, David, Eve\").\n",
    "Stores these names in a list and prints the list.\n",
    "Then, ask the user for a number and print the name at that index of the list. \n",
    "\n",
    "Example Input\n",
    "\n",
    "\"Alice, Bob, Charlie, David, Eve\"\n",
    "Enter an index: 2\n",
    "\n",
    "\n",
    "Example Output:\n",
    "\n",
    "\n",
    "List: ['Alice', 'Bob', 'Charlie', 'David', 'Eve']\n",
    "Name at index 2: Charlie\n"
   ]
  },
  {
   "cell_type": "code",
   "execution_count": 2,
   "id": "a59a34a4-72cf-4b40-9131-702388e668ed",
   "metadata": {},
   "outputs": [
    {
     "name": "stdin",
     "output_type": "stream",
     "text": [
      "Enter 5 different names separated by commas (e.g., Alice, Bob, Charlie, David, Eve):  Alice, Bob, Charlie, David, Eve\n"
     ]
    },
    {
     "name": "stdout",
     "output_type": "stream",
     "text": [
      "List: ['Alice', 'Bob', 'Charlie', 'David', 'Eve']\n"
     ]
    },
    {
     "name": "stdin",
     "output_type": "stream",
     "text": [
      "Enter an index (0 to 4):  3\n"
     ]
    },
    {
     "name": "stdout",
     "output_type": "stream",
     "text": [
      "Name at index 3: David\n"
     ]
    }
   ],
   "source": [
    "# Step 1: Ask the user to enter 5 different names separated by commas\n",
    "user_input = input(\"Enter 5 different names separated by commas (e.g., Alice, Bob, Charlie, David, Eve): \")\n",
    "\n",
    "# Step 2: Split the input string into a list of names\n",
    "names = user_input.split(',')\n",
    "\n",
    "# Step 3: Strip any extra spaces from the names (optional, for clean input)\n",
    "names = [name.strip() for name in names]\n",
    "\n",
    "# Step 4: Print the list of names\n",
    "print(\"List:\", names)\n",
    "\n",
    "# Step 5: Ask the user for an index\n",
    "index = int(input(\"Enter an index (0 to 4): \"))\n",
    "\n",
    "# Step 6: Print the name at the specified index\n",
    "if 0 <= index < len(names):\n",
    "    print(f\"Name at index {index}: {names[index]}\")\n",
    "else:\n",
    "    print(\"Invalid index! Please enter a number between 0 and 4.\")"
   ]
  },
  {
   "cell_type": "markdown",
   "id": "b74c2e00-ed01-446f-af03-5e32ec46944f",
   "metadata": {},
   "source": [
    "## Write a Python program that takes an integer input from the user and checks whether the number is:\n",
    "\n",
    "* Positive\n",
    "\n",
    "* Negative\n",
    "\n",
    "* Zero"
   ]
  },
  {
   "cell_type": "code",
   "execution_count": 5,
   "id": "e6ee9b4c-0966-4bc9-8b3c-7a6d8c66e4e4",
   "metadata": {},
   "outputs": [
    {
     "name": "stdin",
     "output_type": "stream",
     "text": [
      "Enter an integer:  0\n"
     ]
    },
    {
     "name": "stdout",
     "output_type": "stream",
     "text": [
      "The number 0 is zero.\n"
     ]
    }
   ],
   "source": [
    "# Step 1: Take an integer input from the user\n",
    "number = int(input(\"Enter an integer: \"))\n",
    "\n",
    "# Step 2: Check if the number is positive, negative, or zero\n",
    "if number > 0:\n",
    "    print(f\"The number {number} is positive.\")\n",
    "elif number < 0:\n",
    "    print(f\"The number {number} is negative.\")\n",
    "else:\n",
    "    print(f\"The number {number} is zero.\")"
   ]
  },
  {
   "cell_type": "markdown",
   "id": "a36e94fe-20e0-4227-abd8-cbd7ca532f51",
   "metadata": {},
   "source": [
    "## Create a Python program that takes a user's age as input and categorizes them into one of the following age groups:\n",
    "\n",
    "* Child (0-12)\n",
    "* Teen (13-19)\n",
    "* Adult (20-64)\n",
    "* Senior (65+)\n",
    "\n",
    "Print the corresponding category based on the user's age."
   ]
  },
  {
   "cell_type": "code",
   "execution_count": 6,
   "id": "0a58d305-0dc2-4363-a420-1cacdd4c2c0b",
   "metadata": {},
   "outputs": [
    {
     "name": "stdin",
     "output_type": "stream",
     "text": [
      "Enter your age:  20\n"
     ]
    },
    {
     "name": "stdout",
     "output_type": "stream",
     "text": [
      "Your age group is: Adult\n"
     ]
    }
   ],
   "source": [
    "# Step 1: Take the user's age as input\n",
    "age = int(input(\"Enter your age: \"))\n",
    "\n",
    "# Step 2: Categorize the user based on their age\n",
    "if age >= 0 and age <= 12:\n",
    "    category = \"Child\"\n",
    "elif age >= 13 and age <= 19:\n",
    "    category = \"Teen\"\n",
    "elif age >= 20 and age <= 64:\n",
    "    category = \"Adult\"\n",
    "elif age >= 65:\n",
    "    category = \"Senior\"\n",
    "else:\n",
    "    category = \"Invalid age\"  # Handle invalid input (negative numbers)\n",
    "\n",
    "# Step 3: Print the corresponding category\n",
    "print(f\"Your age group is: {category}\")"
   ]
  },
  {
   "cell_type": "markdown",
   "id": "13fb3a6c-ba33-41ef-8b6f-85cd454cc909",
   "metadata": {},
   "source": [
    "## Write a program that asks the user for their name and age, and prints out a message such as: \"Hello [name], you are [age] years old."
   ]
  },
  {
   "cell_type": "code",
   "execution_count": 7,
   "id": "2ba6dab2-6064-450d-b44d-21a67f6767f6",
   "metadata": {},
   "outputs": [
    {
     "name": "stdin",
     "output_type": "stream",
     "text": [
      "What is your name?  Babar\n",
      "How old are you?  20\n"
     ]
    },
    {
     "name": "stdout",
     "output_type": "stream",
     "text": [
      "Hello Babar, you are 20 years old.\n"
     ]
    }
   ],
   "source": [
    "# Step 1: Ask the user for their name\n",
    "name = input(\"What is your name? \")\n",
    "\n",
    "# Step 2: Ask the user for their age\n",
    "age = input(\"How old are you? \")\n",
    "\n",
    "# Step 3: Print the personalized message\n",
    "print(f\"Hello {name}, you are {age} years old.\")"
   ]
  },
  {
   "cell_type": "markdown",
   "id": "753e9996-d137-4577-b8d8-39c697ae51e5",
   "metadata": {},
   "source": [
    "## Write a Python program that demonstrates the use of arithmetic operators (+, -, *, /, %, //, **). Provide examples of each operator, such as:\n",
    "\n",
    "* Addition of two numbers.\n",
    "* Division of two numbers (including floor division).\n",
    "* Exponentiation (power).\n",
    "* Modulus to find the remainder"
   ]
  },
  {
   "cell_type": "code",
   "execution_count": 8,
   "id": "2d6f9ba8-b098-4598-b62d-8057ac6b1342",
   "metadata": {},
   "outputs": [
    {
     "name": "stdout",
     "output_type": "stream",
     "text": [
      "Addition: 10 + 3 = 13\n",
      "Subtraction: 10 - 3 = 7\n",
      "Multiplication: 10 * 3 = 30\n",
      "Division: 10 / 3 = 3.3333333333333335\n",
      "Floor Division: 10 // 3 = 3\n",
      "Modulus: 10 % 3 = 1\n",
      "Exponentiation: 10 ** 3 = 1000\n"
     ]
    }
   ],
   "source": [
    "# Define two numbers for demonstration\n",
    "num1 = 10\n",
    "num2 = 3\n",
    "\n",
    "# Addition\n",
    "addition = num1 + num2\n",
    "print(f\"Addition: {num1} + {num2} = {addition}\")\n",
    "\n",
    "# Subtraction\n",
    "subtraction = num1 - num2\n",
    "print(f\"Subtraction: {num1} - {num2} = {subtraction}\")\n",
    "\n",
    "# Multiplication\n",
    "multiplication = num1 * num2\n",
    "print(f\"Multiplication: {num1} * {num2} = {multiplication}\")\n",
    "\n",
    "# Division\n",
    "division = num1 / num2\n",
    "print(f\"Division: {num1} / {num2} = {division}\")\n",
    "\n",
    "# Floor Division\n",
    "floor_division = num1 // num2\n",
    "print(f\"Floor Division: {num1} // {num2} = {floor_division}\")\n",
    "\n",
    "# Modulus (Remainder)\n",
    "modulus = num1 % num2\n",
    "print(f\"Modulus: {num1} % {num2} = {modulus}\")\n",
    "\n",
    "# Exponentiation (Power)\n",
    "exponentiation = num1 ** num2\n",
    "print(f\"Exponentiation: {num1} ** {num2} = {exponentiation}\")"
   ]
  },
  {
   "cell_type": "markdown",
   "id": "1870c517-0e30-4bb0-a46a-8cbabc77e0c3",
   "metadata": {},
   "source": [
    "## Create a Program to Reverse a String"
   ]
  },
  {
   "cell_type": "code",
   "execution_count": 9,
   "id": "9c3e955a-d1c6-433e-a478-37cd1d9d0f6f",
   "metadata": {},
   "outputs": [
    {
     "name": "stdin",
     "output_type": "stream",
     "text": [
      "Enter a string:  Hello, World!\n"
     ]
    },
    {
     "name": "stdout",
     "output_type": "stream",
     "text": [
      "Reversed string: !dlroW ,olleH\n"
     ]
    }
   ],
   "source": [
    "# Step 1: Take a string input from the user\n",
    "input_string = input(\"Enter a string: \")\n",
    "\n",
    "# Step 2: Reverse the string using slicing\n",
    "reversed_string = input_string[::-1]\n",
    "\n",
    "# Step 3: Print the reversed string\n",
    "print(\"Reversed string:\", reversed_string)"
   ]
  },
  {
   "cell_type": "markdown",
   "id": "6f5a5402-580d-4ccc-98cf-96864dd0ee52",
   "metadata": {},
   "source": [
    "## Write a program that takes a list of numbers as input from the user and sorts the list in ascending order. Print the sorted list after the operation."
   ]
  },
  {
   "cell_type": "code",
   "execution_count": 10,
   "id": "535fb5e3-2f46-4167-ae9e-7a4aaa379f97",
   "metadata": {},
   "outputs": [
    {
     "name": "stdin",
     "output_type": "stream",
     "text": [
      "Enter a list of numbers separated by spaces:  5 6 7 8\n"
     ]
    },
    {
     "name": "stdout",
     "output_type": "stream",
     "text": [
      "Sorted list in ascending order: [5, 6, 7, 8]\n"
     ]
    }
   ],
   "source": [
    "# Step 1: Take a list of numbers as input from the user\n",
    "user_input = input(\"Enter a list of numbers separated by spaces: \")\n",
    "\n",
    "# Step 2: Convert the input string into a list of integers\n",
    "numbers = list(map(int, user_input.split()))\n",
    "\n",
    "# Step 3: Sort the list in ascending order\n",
    "numbers.sort()\n",
    "\n",
    "# Step 4: Print the sorted list\n",
    "print(\"Sorted list in ascending order:\", numbers)"
   ]
  },
  {
   "cell_type": "markdown",
   "id": "68ec045f-fe59-4e3b-92d5-ae4bcc6ec39c",
   "metadata": {},
   "source": [
    "## Write a program that asks the user for the price of a product and calculates the discount. If the price is greater than 100, give a 20% discount; otherwise, give a 10% discount. Print the discounted price using if-else statements."
   ]
  },
  {
   "cell_type": "code",
   "execution_count": 11,
   "id": "e19c45c9-0200-4d9a-8c02-a0406e50a5f7",
   "metadata": {},
   "outputs": [
    {
     "name": "stdin",
     "output_type": "stream",
     "text": [
      "Enter the price of the product:  1000\n"
     ]
    },
    {
     "name": "stdout",
     "output_type": "stream",
     "text": [
      "Original Price: $1000.00\n",
      "Discount Applied: 20.0%\n",
      "Discounted Price: $800.00\n"
     ]
    }
   ],
   "source": [
    "# Step 1: Ask the user for the price of the product\n",
    "price = float(input(\"Enter the price of the product: \"))\n",
    "\n",
    "# Step 2: Calculate the discount based on the price\n",
    "if price > 100:\n",
    "    discount = 0.20  # 20% discount\n",
    "else:\n",
    "    discount = 0.10  # 10% discount\n",
    "\n",
    "# Step 3: Calculate the discounted price\n",
    "discounted_price = price - (price * discount)\n",
    "\n",
    "# Step 4: Print the discounted price\n",
    "print(f\"Original Price: ${price:.2f}\")\n",
    "print(f\"Discount Applied: {discount * 100}%\")\n",
    "print(f\"Discounted Price: ${discounted_price:.2f}\")"
   ]
  },
  {
   "cell_type": "markdown",
   "id": "25226917-1c9a-4d49-bb5a-edd4cae014ad",
   "metadata": {},
   "source": [
    "## Write a Python program that takes a number (1-7) as input from the user, and prints the corresponding day of the week:\n",
    "\n",
    "* 1: Monday\n",
    "* 2: Tuesday\n",
    "* 3: Wednesday\n",
    "* 4: Thursday\n",
    "* 5: Friday\n",
    "* 6: Saturday\n",
    "* 7: Sunday"
   ]
  },
  {
   "cell_type": "code",
   "execution_count": 12,
   "id": "b1062227-64b2-41c5-8db0-1b7aaf0269b8",
   "metadata": {},
   "outputs": [
    {
     "name": "stdin",
     "output_type": "stream",
     "text": [
      "Enter a number (1-7):  5\n"
     ]
    },
    {
     "name": "stdout",
     "output_type": "stream",
     "text": [
      "The day corresponding to 5 is Friday.\n"
     ]
    }
   ],
   "source": [
    "# Step 1: Take a number as input from the user\n",
    "day_number = int(input(\"Enter a number (1-7): \"))\n",
    "\n",
    "# Step 2: Use a dictionary to map numbers to days of the week\n",
    "days_of_week = {\n",
    "    1: \"Monday\",\n",
    "    2: \"Tuesday\",\n",
    "    3: \"Wednesday\",\n",
    "    4: \"Thursday\",\n",
    "    5: \"Friday\",\n",
    "    6: \"Saturday\",\n",
    "    7: \"Sunday\"\n",
    "}\n",
    "\n",
    "# Step 3: Check if the input is valid and print the corresponding day\n",
    "if day_number in days_of_week:\n",
    "    print(f\"The day corresponding to {day_number} is {days_of_week[day_number]}.\")\n",
    "else:\n",
    "    print(\"Invalid input! Please enter a number between 1 and 7.\")"
   ]
  },
  {
   "cell_type": "markdown",
   "id": "81c12b61-6330-49ae-bf1d-bbead6dc1729",
   "metadata": {},
   "source": [
    "## Write a program that asks the user for the weight of a package and calculates the shipping charges based on the following conditions:\n",
    "\n",
    "\n",
    "* If the weight is less than 1kg, the shipping cost is $5.\n",
    "  \n",
    "* If the weight is between 1kg and 5kg, the shipping cost is $10.\n",
    "\n",
    "  \n",
    "* If the weight is between 5kg and 10kg, the shipping cost is $15.\n",
    "\n",
    "  \n",
    "* If the weight is greater than 10kg, the shipping cost is $20."
   ]
  },
  {
   "cell_type": "code",
   "execution_count": 13,
   "id": "69207c42-7e00-4a9d-806c-6167759e75a6",
   "metadata": {},
   "outputs": [
    {
     "name": "stdin",
     "output_type": "stream",
     "text": [
      "Enter the weight of the package (in kg):  1\n"
     ]
    },
    {
     "name": "stdout",
     "output_type": "stream",
     "text": [
      "Shipping cost for a package of 1.0 kg is: $10\n"
     ]
    }
   ],
   "source": [
    "# Step 1: Ask the user for the weight of the package\n",
    "weight = float(input(\"Enter the weight of the package (in kg): \"))\n",
    "\n",
    "# Step 2: Calculate the shipping charges based on the weight\n",
    "if weight < 1:\n",
    "    shipping_cost = 5  # $5 for weight less than 1kg\n",
    "elif 1 <= weight <= 5:\n",
    "    shipping_cost = 10  # $10 for weight between 1kg and 5kg\n",
    "elif 5 < weight <= 10:\n",
    "    shipping_cost = 15  # $15 for weight between 5kg and 10kg\n",
    "else:\n",
    "    shipping_cost = 20  # $20 for weight greater than 10kg\n",
    "\n",
    "# Step 3: Print the shipping cost\n",
    "print(f\"Shipping cost for a package of {weight} kg is: ${shipping_cost}\")"
   ]
  },
  {
   "cell_type": "markdown",
   "id": "f611a172-86d9-4fc8-9032-865be4866ec5",
   "metadata": {},
   "source": [
    "## Write a Python program that asks the user for a single character and checks:\n",
    "\n",
    "* If the character is either a vowel (a, e, i, o, u) or a consonant (any alphabet letter other than a vowel).\n",
    "Print \"Vowel\" if it is a vowel.\n",
    " \n",
    " Print \"Invalid character\" if it is neither."
   ]
  },
  {
   "cell_type": "code",
   "execution_count": 19,
   "id": "85e9e038-4a65-4943-b992-9f5c4e9db3c0",
   "metadata": {},
   "outputs": [
    {
     "name": "stdin",
     "output_type": "stream",
     "text": [
      "Enter a single character:  a\n"
     ]
    },
    {
     "name": "stdout",
     "output_type": "stream",
     "text": [
      "Vowel\n"
     ]
    }
   ],
   "source": [
    "# Step 1: Ask the user for a single character\n",
    "char = input(\"Enter a single character: \").lower()  # Convert to lowercase for easier comparison\n",
    "\n",
    "# Step 2: Check if the character is a vowel, consonant, or invalid\n",
    "if len(char) == 1 and char.isalpha():  # Ensure it's a single alphabet character\n",
    "    if char in ['a', 'e', 'i', 'o', 'u']:\n",
    "        print(\"Vowel\")\n",
    "    else:\n",
    "        print(\"Consonant\")\n",
    "else:\n",
    "    print(\"Invalid character\")"
   ]
  },
  {
   "cell_type": "markdown",
   "id": "e96d0352-d6ce-4930-b1c0-0db377f67800",
   "metadata": {},
   "source": [
    "## Write a Python program that asks the student’s grade. The program should check:\n",
    "\n",
    "* If the grade is greater than or equal to 90 and less than or equal to 100, print \"Top 5 Student\".\n",
    "* If the grade is greater than or equal to 80 and less than 90, print \"Top 10 Student\".\n",
    "* Otherwise, print \"Not in Top 10\"."
   ]
  },
  {
   "cell_type": "code",
   "execution_count": 20,
   "id": "338da3ba-b6dc-48e4-96a6-a4b56bbe07a9",
   "metadata": {},
   "outputs": [
    {
     "name": "stdin",
     "output_type": "stream",
     "text": [
      "Enter the student's grade:  95\n"
     ]
    },
    {
     "name": "stdout",
     "output_type": "stream",
     "text": [
      "Top 5 Student\n"
     ]
    }
   ],
   "source": [
    "# Step 1: Ask the user for the student's grade\n",
    "grade = float(input(\"Enter the student's grade: \"))\n",
    "\n",
    "# Step 2: Check the grade and print the corresponding ranking\n",
    "if 90 <= grade <= 100:\n",
    "    print(\"Top 5 Student\")\n",
    "elif 80 <= grade < 90:\n",
    "    print(\"Top 10 Student\")\n",
    "else:\n",
    "    print(\"Not in Top 10\")"
   ]
  },
  {
   "cell_type": "markdown",
   "id": "b935421a-02a1-4aaa-96bf-06aa1fd4ef2e",
   "metadata": {},
   "source": [
    "## Write a Python program that checks if a student passed based on the following conditions:\n",
    "\n",
    "* If the marks are greater than or equal to 50, check\n",
    "  * if the attendance is 75% or more:\n",
    "  \n",
    "  * If attendance is 75% or more, print \"Passed\".\n",
    "\n",
    "  * If attendance is less than 75%, print \"Failed due to low attendance\".\n",
    "* If the marks are less than 50, print \"Failed due to low marks\"."
   ]
  },
  {
   "cell_type": "code",
   "execution_count": 22,
   "id": "f30bf6d5-6911-4343-a7b0-c3240cbe5b7c",
   "metadata": {},
   "outputs": [
    {
     "name": "stdin",
     "output_type": "stream",
     "text": [
      "Enter the student's marks:  74\n",
      "Enter the student's attendance percentage:  60\n"
     ]
    },
    {
     "name": "stdout",
     "output_type": "stream",
     "text": [
      "Failed due to low attendance\n"
     ]
    }
   ],
   "source": [
    "# Step 1: Ask the user for the student's marks and attendance percentage\n",
    "marks = float(input(\"Enter the student's marks: \"))\n",
    "attendance = float(input(\"Enter the student's attendance percentage: \"))\n",
    "\n",
    "# Step 2: Check the conditions and print the result\n",
    "if marks >= 50:\n",
    "    if attendance >= 75:\n",
    "        print(\"Passed\")\n",
    "    else:\n",
    "        print(\"Failed due to low attendance\")\n",
    "else:\n",
    "    print(\"Failed due to low marks\")"
   ]
  },
  {
   "cell_type": "markdown",
   "id": "7a98211b-92fb-447f-a877-0a657a30a1cc",
   "metadata": {},
   "source": [
    "## Write a Python program that checks if a person is eligible for a loan:\n",
    "\n",
    "* If the person’s credit score is above 700, check if their income is above $50,000:\n",
    "    * If true, print \"Loan Approved\".\n",
    "    * If false, print \"Loan Denied due to low income\".\n",
    "* If the credit score is below 700, print \"Loan Denied due to low credit score"
   ]
  },
  {
   "cell_type": "code",
   "execution_count": 23,
   "id": "41851db1-51fb-4ccf-8963-fa13caab4abf",
   "metadata": {},
   "outputs": [
    {
     "name": "stdin",
     "output_type": "stream",
     "text": [
      "Enter your credit score:  750\n",
      "Enter your annual income: $ 100000\n"
     ]
    },
    {
     "name": "stdout",
     "output_type": "stream",
     "text": [
      "Loan Approved\n"
     ]
    }
   ],
   "source": [
    "# Step 1: Ask the user for their credit score and income\n",
    "credit_score = int(input(\"Enter your credit score: \"))\n",
    "income = float(input(\"Enter your annual income: $\"))\n",
    "\n",
    "# Step 2: Check the conditions and print the result\n",
    "if credit_score > 700:\n",
    "    if income > 50000:\n",
    "        print(\"Loan Approved\")\n",
    "    else:\n",
    "        print(\"Loan Denied due to low income\")\n",
    "else:\n",
    "    print(\"Loan Denied due to low credit score\")"
   ]
  },
  {
   "cell_type": "code",
   "execution_count": null,
   "id": "2e49b703-c1fc-44d6-956d-43552a77a309",
   "metadata": {},
   "outputs": [],
   "source": []
  }
 ],
 "metadata": {
  "kernelspec": {
   "display_name": "Python 3 (ipykernel)",
   "language": "python",
   "name": "python3"
  },
  "language_info": {
   "codemirror_mode": {
    "name": "ipython",
    "version": 3
   },
   "file_extension": ".py",
   "mimetype": "text/x-python",
   "name": "python",
   "nbconvert_exporter": "python",
   "pygments_lexer": "ipython3",
   "version": "3.13.2"
  }
 },
 "nbformat": 4,
 "nbformat_minor": 5
}
